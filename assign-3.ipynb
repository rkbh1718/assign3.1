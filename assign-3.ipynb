{
 "cells": [
  {
   "cell_type": "markdown",
   "id": "5c70b61b",
   "metadata": {},
   "source": [
    "# 1. Why are functions advantageous to have in your programs?"
   ]
  },
  {
   "cell_type": "code",
   "execution_count": null,
   "id": "c1aaf8ba",
   "metadata": {},
   "outputs": [],
   "source": [
    "because , it gives reuseability, no need to write again n again , also it is easy to debugging"
   ]
  },
  {
   "cell_type": "markdown",
   "id": "6b2e23fb",
   "metadata": {},
   "source": [
    "# 2. When does the code in a function run: when it's specified or when it's called?"
   ]
  },
  {
   "cell_type": "code",
   "execution_count": null,
   "id": "689018eb",
   "metadata": {},
   "outputs": [],
   "source": [
    "when it is called"
   ]
  },
  {
   "cell_type": "markdown",
   "id": "c00464d2",
   "metadata": {},
   "source": [
    "# 3. What statement creates a function?"
   ]
  },
  {
   "cell_type": "code",
   "execution_count": null,
   "id": "b3d1b0b5",
   "metadata": {},
   "outputs": [],
   "source": [
    "def test():"
   ]
  },
  {
   "cell_type": "markdown",
   "id": "649a4de4",
   "metadata": {},
   "source": [
    "# 4. What is the difference between a function and a function call?"
   ]
  },
  {
   "cell_type": "code",
   "execution_count": null,
   "id": "d83ece61",
   "metadata": {},
   "outputs": [],
   "source": [
    "difference between the function and function call is, A function is procedure to achieve a particular result whereas function call is using this function to achive that task."
   ]
  },
  {
   "cell_type": "markdown",
   "id": "fdf43c66",
   "metadata": {},
   "source": [
    "# 5. How many global scopes are there in a Python program? How many local scopes?"
   ]
  },
  {
   "cell_type": "code",
   "execution_count": null,
   "id": "ad65daf1",
   "metadata": {},
   "outputs": [],
   "source": [
    "only one global scope"
   ]
  },
  {
   "cell_type": "markdown",
   "id": "13566f52",
   "metadata": {},
   "source": [
    "# 6. What happens to variables in a local scope when the function call returns?"
   ]
  },
  {
   "cell_type": "code",
   "execution_count": null,
   "id": "78004613",
   "metadata": {},
   "outputs": [],
   "source": [
    "local variables are destroyed."
   ]
  },
  {
   "cell_type": "markdown",
   "id": "ef3498f3",
   "metadata": {},
   "source": [
    "# 7. What is the concept of a return value? Is it possible to have a return value in an expression?"
   ]
  },
  {
   "cell_type": "code",
   "execution_count": null,
   "id": "42d84e79",
   "metadata": {},
   "outputs": [],
   "source": [
    "A return statement is used to end the execution of the function call and “returns” the result.  yes we can have "
   ]
  },
  {
   "cell_type": "markdown",
   "id": "806b2af2",
   "metadata": {},
   "source": [
    "# 8. If a function does not have a return statement, what is the return value of a call to that function?"
   ]
  },
  {
   "cell_type": "code",
   "execution_count": null,
   "id": "3b68b75c",
   "metadata": {},
   "outputs": [],
   "source": [
    "If a function doesn't specify a return value, it returns None"
   ]
  },
  {
   "cell_type": "markdown",
   "id": "51671a0f",
   "metadata": {},
   "source": [
    "# 9. How do you make a function variable refer to the global variable?"
   ]
  },
  {
   "cell_type": "code",
   "execution_count": null,
   "id": "8a5c110f",
   "metadata": {},
   "outputs": [],
   "source": [
    "using global keyword"
   ]
  },
  {
   "cell_type": "markdown",
   "id": "af321b73",
   "metadata": {},
   "source": [
    "# 10. What is the data type of None?"
   ]
  },
  {
   "cell_type": "code",
   "execution_count": 2,
   "id": "2f2aadc9",
   "metadata": {},
   "outputs": [
    {
     "data": {
      "text/plain": [
       "NoneType"
      ]
     },
     "execution_count": 2,
     "metadata": {},
     "output_type": "execute_result"
    }
   ],
   "source": [
    "type(None)"
   ]
  },
  {
   "cell_type": "markdown",
   "id": "60186e20",
   "metadata": {},
   "source": [
    "# 11. What does the sentence import areallyourpetsnamederic do?"
   ]
  },
  {
   "cell_type": "code",
   "execution_count": null,
   "id": "1fbbc526",
   "metadata": {},
   "outputs": [],
   "source": [
    "it will import the module areallyourpetsnamederic and we can use the functions of it"
   ]
  },
  {
   "cell_type": "markdown",
   "id": "f7296775",
   "metadata": {},
   "source": [
    "# 12. If you had a bacon() feature in a spam module, what would you call it after importing spam?"
   ]
  },
  {
   "cell_type": "code",
   "execution_count": null,
   "id": "a8e87cd6",
   "metadata": {},
   "outputs": [],
   "source": [
    "we can execute spam.bacon() and used the features inside the function"
   ]
  },
  {
   "cell_type": "markdown",
   "id": "9da3a648",
   "metadata": {},
   "source": [
    "# 13. What can you do to save a programme from crashing if it encounters an error?"
   ]
  },
  {
   "cell_type": "code",
   "execution_count": null,
   "id": "79253135",
   "metadata": {},
   "outputs": [],
   "source": [
    "with the help of exception handling we can prevent it from crashing"
   ]
  },
  {
   "cell_type": "markdown",
   "id": "fc958f37",
   "metadata": {},
   "source": [
    "# 14. What is the purpose of the try clause? What is the purpose of the except clause?"
   ]
  },
  {
   "cell_type": "code",
   "execution_count": null,
   "id": "8728347d",
   "metadata": {},
   "outputs": [],
   "source": [
    "try clause it used to write supecious code and except clause is used to handle it"
   ]
  }
 ],
 "metadata": {
  "kernelspec": {
   "display_name": "Python 3",
   "language": "python",
   "name": "python3"
  },
  "language_info": {
   "codemirror_mode": {
    "name": "ipython",
    "version": 3
   },
   "file_extension": ".py",
   "mimetype": "text/x-python",
   "name": "python",
   "nbconvert_exporter": "python",
   "pygments_lexer": "ipython3",
   "version": "3.8.8"
  }
 },
 "nbformat": 4,
 "nbformat_minor": 5
}
