{
 "cells": [
  {
   "cell_type": "markdown",
   "id": "18454d94",
   "metadata": {},
   "source": [
    "# 1. Create an assert statement that throws an AssertionError if the variable spam is a negative integer."
   ]
  },
  {
   "cell_type": "code",
   "execution_count": 2,
   "id": "14b90bd7",
   "metadata": {},
   "outputs": [
    {
     "ename": "AssertionError",
     "evalue": "",
     "output_type": "error",
     "traceback": [
      "\u001b[1;31m---------------------------------------------------------------------------\u001b[0m",
      "\u001b[1;31mAssertionError\u001b[0m                            Traceback (most recent call last)",
      "\u001b[1;32m<ipython-input-2-e71a1c56c416>\u001b[0m in \u001b[0;36m<module>\u001b[1;34m\u001b[0m\n\u001b[0;32m      1\u001b[0m \u001b[0mspam\u001b[0m \u001b[1;33m=\u001b[0m\u001b[1;36m10\u001b[0m\u001b[1;33m\u001b[0m\u001b[1;33m\u001b[0m\u001b[0m\n\u001b[1;32m----> 2\u001b[1;33m \u001b[1;32massert\u001b[0m \u001b[0mspam\u001b[0m \u001b[1;33m<\u001b[0m \u001b[1;36m9\u001b[0m\u001b[1;33m\u001b[0m\u001b[1;33m\u001b[0m\u001b[0m\n\u001b[0m",
      "\u001b[1;31mAssertionError\u001b[0m: "
     ]
    }
   ],
   "source": [
    "spam =10\n",
    "assert spam < 9\n"
   ]
  },
  {
   "cell_type": "markdown",
   "id": "6ca1004f",
   "metadata": {},
   "source": [
    "# 2. Write an assert statement that triggers an AssertionError if the variables eggs and bacon contain strings that are the same as each other, even if their cases are different (that is, &#39;hello&#39; and &#39;hello&#39; are considered the same, and &#39;goodbye&#39; and &#39;GOODbye&#39; are also considered the same)."
   ]
  },
  {
   "cell_type": "code",
   "execution_count": 18,
   "id": "1338ea93",
   "metadata": {},
   "outputs": [
    {
     "name": "stdout",
     "output_type": "stream",
     "text": [
      "hello\n",
      "HeLLo\n"
     ]
    },
    {
     "ename": "AssertionError",
     "evalue": "The eggs and bacon variables are the same!",
     "output_type": "error",
     "traceback": [
      "\u001b[1;31m---------------------------------------------------------------------------\u001b[0m",
      "\u001b[1;31mAssertionError\u001b[0m                            Traceback (most recent call last)",
      "\u001b[1;32m<ipython-input-18-0be1fd95f71d>\u001b[0m in \u001b[0;36m<module>\u001b[1;34m\u001b[0m\n\u001b[0;32m      1\u001b[0m \u001b[0meggs\u001b[0m \u001b[1;33m=\u001b[0m \u001b[0minput\u001b[0m\u001b[1;33m(\u001b[0m\u001b[1;33m)\u001b[0m\u001b[1;33m\u001b[0m\u001b[1;33m\u001b[0m\u001b[0m\n\u001b[0;32m      2\u001b[0m \u001b[0mbacon\u001b[0m \u001b[1;33m=\u001b[0m\u001b[0minput\u001b[0m\u001b[1;33m(\u001b[0m\u001b[1;33m)\u001b[0m\u001b[1;33m\u001b[0m\u001b[1;33m\u001b[0m\u001b[0m\n\u001b[1;32m----> 3\u001b[1;33m \u001b[1;32massert\u001b[0m \u001b[0meggs\u001b[0m\u001b[1;33m.\u001b[0m\u001b[0mlower\u001b[0m\u001b[1;33m(\u001b[0m\u001b[1;33m)\u001b[0m \u001b[1;33m!=\u001b[0m \u001b[0mbacon\u001b[0m\u001b[1;33m.\u001b[0m\u001b[0mlower\u001b[0m\u001b[1;33m(\u001b[0m\u001b[1;33m)\u001b[0m\u001b[1;33m,\u001b[0m \u001b[1;34m'The eggs and bacon variables are the same!'\u001b[0m\u001b[1;33m\u001b[0m\u001b[1;33m\u001b[0m\u001b[0m\n\u001b[0m",
      "\u001b[1;31mAssertionError\u001b[0m: The eggs and bacon variables are the same!"
     ]
    }
   ],
   "source": [
    "eggs = input()\n",
    "bacon =input()\n",
    "assert eggs.lower() != bacon.lower(), 'The eggs and bacon variables are the same!'"
   ]
  },
  {
   "cell_type": "markdown",
   "id": "508d6ff6",
   "metadata": {},
   "source": [
    "# 3. Create an assert statement that throws an AssertionError every time."
   ]
  },
  {
   "cell_type": "code",
   "execution_count": 19,
   "id": "9cc70f6a",
   "metadata": {},
   "outputs": [
    {
     "ename": "AssertionError",
     "evalue": "through assertionError all time",
     "output_type": "error",
     "traceback": [
      "\u001b[1;31m---------------------------------------------------------------------------\u001b[0m",
      "\u001b[1;31mAssertionError\u001b[0m                            Traceback (most recent call last)",
      "\u001b[1;32m<ipython-input-19-12c47f67e74e>\u001b[0m in \u001b[0;36m<module>\u001b[1;34m\u001b[0m\n\u001b[1;32m----> 1\u001b[1;33m \u001b[1;32massert\u001b[0m \u001b[1;32mFalse\u001b[0m \u001b[1;33m,\u001b[0m \u001b[1;34m'through assertionError all time'\u001b[0m\u001b[1;33m\u001b[0m\u001b[1;33m\u001b[0m\u001b[0m\n\u001b[0m",
      "\u001b[1;31mAssertionError\u001b[0m: through assertionError all time"
     ]
    }
   ],
   "source": [
    "assert False , 'through assertionError all time'"
   ]
  },
  {
   "cell_type": "markdown",
   "id": "254a5a2c",
   "metadata": {},
   "source": [
    "# 4 What are the two lines that your program must have in order to be able to call logging.debug()? "
   ]
  },
  {
   "cell_type": "code",
   "execution_count": 24,
   "id": "42eb90cf",
   "metadata": {},
   "outputs": [],
   "source": [
    "import logging as lg\n",
    "\n",
    "lg.basicConfig(level =lg.DEBUG, format= '%(asctime)s%')"
   ]
  },
  {
   "cell_type": "markdown",
   "id": "750c27f0",
   "metadata": {},
   "source": [
    "# 5. What are the two lines that your program must have in order to have logging.debug() send a logging message to a ﬁle named programLog.txt? "
   ]
  },
  {
   "cell_type": "code",
   "execution_count": 27,
   "id": "ba914597",
   "metadata": {},
   "outputs": [],
   "source": [
    "lg.basicConfig(filename ='programLog.txt' , level =lg.DEBUG ,  format=' %(asctime)s - %(levelname)s - %(message)s')"
   ]
  },
  {
   "cell_type": "code",
   "execution_count": 26,
   "id": "1b764ce7",
   "metadata": {},
   "outputs": [
    {
     "data": {
      "text/plain": [
       "'C:\\\\Users\\\\RAJNEESH BHARTI\\\\Desktop\\\\ineouron\\\\assign'"
      ]
     },
     "execution_count": 26,
     "metadata": {},
     "output_type": "execute_result"
    }
   ],
   "source": [
    "pwd"
   ]
  },
  {
   "cell_type": "markdown",
   "id": "8b521fca",
   "metadata": {},
   "source": [
    "# 6.What are the ﬁve logging levels?"
   ]
  },
  {
   "cell_type": "code",
   "execution_count": null,
   "id": "38de913a",
   "metadata": {},
   "outputs": [],
   "source": [
    "DEBUG , ERROR , INFO , WARNING , CRITICAL"
   ]
  },
  {
   "cell_type": "markdown",
   "id": "4160aa18",
   "metadata": {},
   "source": [
    "# 7.What line of code can you add to disable all logging messages in your program?"
   ]
  },
  {
   "cell_type": "code",
   "execution_count": null,
   "id": "3a65b867",
   "metadata": {},
   "outputs": [],
   "source": [
    "lg.disable()"
   ]
  },
  {
   "cell_type": "markdown",
   "id": "38a0414b",
   "metadata": {},
   "source": [
    "# 8.Why is using logging messages better than using print() to display the same message? "
   ]
  },
  {
   "cell_type": "code",
   "execution_count": null,
   "id": "abe0397d",
   "metadata": {},
   "outputs": [],
   "source": [
    "main reason is we cant write print() in production side code or You can selectively disable lower-level logging messages. You can create logging messages. Logging messages provides a timestamp."
   ]
  },
  {
   "cell_type": "markdown",
   "id": "64399fcb",
   "metadata": {},
   "source": [
    "# 9. What are the differences between the Step, Over, and Out buttons in the Debug Control window?"
   ]
  },
  {
   "cell_type": "code",
   "execution_count": null,
   "id": "2285e4fe",
   "metadata": {},
   "outputs": [],
   "source": [
    "a> Step button will move the debugger into a function call\n",
    "b> The Over button will quickly execute the function call without stepping into it.\n",
    "c> The Out button will quickly execute the rest of the code until it steps out of the function it currently is in."
   ]
  },
  {
   "cell_type": "markdown",
   "id": "d7233526",
   "metadata": {},
   "source": [
    "# 10.After you click Go in the Debug Control window, when will the debugger stop? "
   ]
  },
  {
   "cell_type": "code",
   "execution_count": null,
   "id": "c0ae036a",
   "metadata": {},
   "outputs": [],
   "source": [
    "it will stop when it has reached at the end of the program."
   ]
  },
  {
   "cell_type": "markdown",
   "id": "bef0463e",
   "metadata": {},
   "source": [
    "# 11. What is a breakpoint?"
   ]
  },
  {
   "cell_type": "code",
   "execution_count": null,
   "id": "3dca9677",
   "metadata": {},
   "outputs": [],
   "source": [
    "it is the last line of the program where debugger get stopped."
   ]
  },
  {
   "cell_type": "markdown",
   "id": "51628c05",
   "metadata": {},
   "source": [
    "# 12.How do you set a breakpoint on a line of code in IDLE?"
   ]
  },
  {
   "cell_type": "code",
   "execution_count": null,
   "id": "8b3ba9c9",
   "metadata": {},
   "outputs": [],
   "source": [
    "need to search"
   ]
  },
  {
   "cell_type": "code",
   "execution_count": null,
   "id": "5cf0a4dc",
   "metadata": {},
   "outputs": [],
   "source": []
  }
 ],
 "metadata": {
  "kernelspec": {
   "display_name": "Python 3",
   "language": "python",
   "name": "python3"
  },
  "language_info": {
   "codemirror_mode": {
    "name": "ipython",
    "version": 3
   },
   "file_extension": ".py",
   "mimetype": "text/x-python",
   "name": "python",
   "nbconvert_exporter": "python",
   "pygments_lexer": "ipython3",
   "version": "3.8.8"
  }
 },
 "nbformat": 4,
 "nbformat_minor": 5
}
